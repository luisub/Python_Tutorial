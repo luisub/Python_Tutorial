{
 "cells": [
  {
   "cell_type": "markdown",
   "metadata": {},
   "source": [
    "## 1. Introduction to Python Basics\n",
    "*\tTopics Covered:\n",
    "    *\tData types\n",
    "    *   Indexing and slicing\n",
    "    *   Loading data CSV, Excel files\n",
    "    *   Working with data\n",
    "    *   Basic plotting"
   ]
  },
  {
   "cell_type": "code",
   "execution_count": null,
   "metadata": {},
   "outputs": [],
   "source": [
    "# Install the required packages for the project\n",
    "#!pip install pandas\n",
    "#!pip install numpy\n",
    "#!pip install matplotlib"
   ]
  },
  {
   "cell_type": "code",
   "execution_count": null,
   "metadata": {},
   "outputs": [],
   "source": [
    "# Print a simple message to demonstrate Python syntax\n",
    "print(\"Welcome to Python!\")"
   ]
  },
  {
   "cell_type": "markdown",
   "metadata": {},
   "source": [
    "## 2. Basic Data Types in Python\n",
    "\n",
    "*\tTopics Covered:\n",
    "    *\tStrings (str)\n",
    "    *\tIntegers (int)\n",
    "    *\tLists (list)\n"
   ]
  },
  {
   "cell_type": "code",
   "execution_count": null,
   "metadata": {},
   "outputs": [],
   "source": [
    "# Examples of data types\n",
    "name = \"Alice\"  # String\n",
    "age = 30        # Integer\n",
    "height = 5.6    # Float\n",
    "items = [\"apple\", \"banana\", \"cherry\"]  # List\n",
    "\n",
    "print(\"Name:\", name)\n",
    "print(\"Age:\", age)\n",
    "print(\"Height:\", height)\n",
    "print(\"Shopping List:\", items)"
   ]
  },
  {
   "cell_type": "code",
   "execution_count": null,
   "metadata": {},
   "outputs": [],
   "source": [
    "# Arithmetic operations\n",
    "a = 10\n",
    "b = 3\n",
    "print('Sum:', a + b)\n",
    "print('Difference:', a - b)\n",
    "print('Product:', a * b)\n",
    "print('Division:', a / b)\n",
    "print('Floor Division:', a // b)\n",
    "print('Modulus:', a % b)\n",
    "print('Exponentiation:', a ** b)"
   ]
  },
  {
   "cell_type": "code",
   "execution_count": null,
   "metadata": {},
   "outputs": [],
   "source": [
    "# String operations\n",
    "first_name = \"John\"\n",
    "last_name = \"Doe\"\n",
    "full_name = first_name + \" \" + last_name\n",
    "print('Full Name:', full_name)\n",
    "print('Uppercase:', full_name.upper())\n",
    "print('Lowercase:', full_name.lower())\n",
    "print('Split Name:', full_name.split())"
   ]
  },
  {
   "cell_type": "code",
   "execution_count": null,
   "metadata": {},
   "outputs": [],
   "source": [
    "# List operations\n",
    "numbers = [1, 2, 3, 4, 5, 6]\n",
    "print('Original List:', numbers)\n",
    "numbers.append(7)\n",
    "print('List after Append:', numbers)\n",
    "print('Second Element:', numbers[1])\n",
    "print('Last Element:', numbers[-1])\n",
    "numbers.sort(reverse=True)\n",
    "print('List after Sorting:', numbers)"
   ]
  },
  {
   "cell_type": "code",
   "execution_count": null,
   "metadata": {},
   "outputs": [],
   "source": [
    "# indexing and slicing\n",
    "print('First 3 elements:', numbers[:3])\n",
    "print('Last 3 elements:', numbers[-3:])\n",
    "print('Elements from 2 to 4:', numbers[1:4])\n"
   ]
  },
  {
   "cell_type": "markdown",
   "metadata": {},
   "source": [
    "# In this section we will start using external libraries. \n",
    "\n",
    "____"
   ]
  },
  {
   "cell_type": "markdown",
   "metadata": {},
   "source": [
    "## 3. Loading and Exploring Data\n",
    "\n",
    "*\tTopics Covered:\n",
    "    *\tReading a CSV file\n",
    "    *\tExploring basic data statistics"
   ]
  },
  {
   "cell_type": "code",
   "execution_count": null,
   "metadata": {},
   "outputs": [],
   "source": [
    "import pandas as pd\n",
    "import numpy as np\n",
    "\n",
    "# Set seed for reproducibility\n",
    "np.random.seed(42)\n",
    "\n",
    "number_of_values = 200\n",
    "\n",
    "# Generate data\n",
    "data = {\n",
    "    \"Control\": np.random.normal(loc=30, scale=10, size=number_of_values),\n",
    "    \"Treatment\": np.random.normal(loc=60, scale=10, size=number_of_values)\n",
    "}\n",
    "\n",
    "# Create DataFrame\n",
    "df = pd.DataFrame(data)\n",
    "\n",
    "\n",
    "print(df.head(10))  # Display the first 10 rows to check the data"
   ]
  },
  {
   "cell_type": "markdown",
   "metadata": {},
   "source": [
    "### To load a dataset from a CSV or Excel file\n",
    "_____\n",
    "```sh\n",
    "import pandas as pd\n",
    "```\n",
    "\n",
    "#### CSV file\n",
    "```sh\n",
    "csv_file = 'path_to_file.xlsx'\n",
    "```\n",
    "```sh\n",
    "data = pd.read_csv(csv_file)\n",
    "```\n",
    "\n",
    "----\n",
    "\n",
    "#### Excel file\n",
    "```sh\n",
    "excel_file = 'path_to_file.xlsx'\n",
    "```\n",
    "```sh\n",
    "data = pd.read_excel(excel_file)\n",
    "```\n",
    "-----"
   ]
  },
  {
   "cell_type": "code",
   "execution_count": null,
   "metadata": {},
   "outputs": [],
   "source": [
    "# Calculate summary statistics\n",
    "summary_stats = df[['Control', 'Treatment']].agg(['mean', 'std'])\n",
    "print(summary_stats)"
   ]
  },
  {
   "cell_type": "code",
   "execution_count": null,
   "metadata": {},
   "outputs": [],
   "source": [
    "#df.agg?"
   ]
  },
  {
   "cell_type": "markdown",
   "metadata": {},
   "source": [
    "## 4. Data Indexing and Selection\n",
    "\n",
    "*\tTopics Covered:\n",
    "    *\tSelecting rows and columns\n",
    "    *\tConditional selection\n"
   ]
  },
  {
   "cell_type": "code",
   "execution_count": null,
   "metadata": {},
   "outputs": [],
   "source": [
    "# Selecting a column in the dataframe\n",
    "df['Control'][0:5]"
   ]
  },
  {
   "cell_type": "code",
   "execution_count": null,
   "metadata": {},
   "outputs": [],
   "source": [
    "# Selecting rows in the dataframe\n",
    "df.loc[5:10]"
   ]
  },
  {
   "cell_type": "code",
   "execution_count": null,
   "metadata": {},
   "outputs": [],
   "source": [
    "# Adding columns to the dataframe\n",
    "\n",
    "#  Calculate the difference\n",
    "df['Difference'] = df['Treatment'] - df['Control']\n",
    "\n",
    "# Significance effects is assumed to be larger than a threshold of 15\n",
    "threshold = 30\n",
    "\n",
    "# Add a boolean column indicating Signinficant treatment effect\n",
    "df['Significant'] = df['Difference'] > threshold\n",
    "\n",
    "# Display rows with significant treatment effect\n",
    "df.head(10)\n"
   ]
  },
  {
   "cell_type": "markdown",
   "metadata": {},
   "source": [
    "## 5. Data Visualization\n",
    "\n",
    "*\tTopics Covered:\n",
    "    *\tCreating a linear plot\n",
    "    *\tGenerating a box plot\n",
    "    *\tMaking a scatter plot\n"
   ]
  },
  {
   "cell_type": "code",
   "execution_count": null,
   "metadata": {},
   "outputs": [],
   "source": [
    "# Combined Bar Plot for Mean Values\n",
    "plt.figure(figsize=(4, 4))\n",
    "labels = ['Control', 'Treatment']\n",
    "means = [summary_stats.loc['mean', 'Control'], summary_stats.loc['mean', 'Treatment']]\n",
    "errors = [summary_stats.loc['std', 'Control'], summary_stats.loc['std', 'Treatment']]\n",
    "\n",
    "plt.bar(labels, means, yerr=errors, capsize=10, color=['blue', 'red'])\n",
    "plt.title('Comparison of Mean Measurements')\n",
    "plt.ylabel('Mean Values')\n",
    "plt.show()"
   ]
  },
  {
   "cell_type": "code",
   "execution_count": null,
   "metadata": {},
   "outputs": [],
   "source": [
    "# Create a box plot\n",
    "plt.figure(figsize=(4, 4))\n",
    "# Positions for the groups\n",
    "positions = [1, 2]\n",
    "\n",
    "# Creating the box plot with 'patch_artist=True' to enable face coloring\n",
    "box = plt.boxplot([df['Control'], df['Treatment']], tick_labels=['Control', 'Treatment'], \n",
    "                  positions=positions, patch_artist=True, widths=0.6, whiskerprops={'linewidth':1.5, 'linestyle': '--', 'color':'green'})\n",
    "\n",
    "# Coloring the boxes\n",
    "colors = ['blue', 'red']\n",
    "for patch, color in zip(box['boxes'], colors):\n",
    "    patch.set_facecolor(color)\n",
    "\n",
    "\n",
    "plt.title('Box Plot with Whiskers')\n",
    "plt.ylabel('Values')\n",
    "plt.show()"
   ]
  },
  {
   "cell_type": "code",
   "execution_count": null,
   "metadata": {},
   "outputs": [],
   "source": [
    "# Create a box plot\n",
    "plt.figure(figsize=(4, 4))\n",
    "# Positions for the groups\n",
    "positions = [1, 2]\n",
    "\n",
    "# Creating the box plot with 'patch_artist=True' to enable face coloring\n",
    "box = plt.boxplot([df['Control'], df['Treatment']], tick_labels=['Control', 'Treatment'], \n",
    "                  positions=positions, patch_artist=True, widths=0.6)\n",
    "\n",
    "# Coloring the boxes\n",
    "colors = ['blue', 'red']\n",
    "for patch, color in zip(box['boxes'], colors):\n",
    "    patch.set_facecolor(color)\n",
    "\n",
    "# Adding data points on top of the box plots\n",
    "for i, data in enumerate([df['Control'], df['Treatment']], start=1):\n",
    "    x = np.random.normal(i, 0.04, size=len(data))  # Add some jitter to the x-values to spread the points\n",
    "    plt.plot(x, data, 'o', markersize=2, alpha=0.6, color='k')  # 'k' stands for black\n",
    "\n",
    "plt.title('Box Plot with Data Points')\n",
    "plt.ylabel('Values')\n",
    "plt.show()"
   ]
  },
  {
   "cell_type": "markdown",
   "metadata": {},
   "source": []
  },
  {
   "cell_type": "code",
   "execution_count": null,
   "metadata": {},
   "outputs": [],
   "source": [
    "plt.figure(figsize=(5, 4))\n",
    "plt.hist([df['Control'], df['Treatment']], bins=10, alpha=0.7, label=['Control', 'Treatment'], color=['blue', 'red'],density=True )\n",
    "plt.title('Histogram of Control and Treatment Measurements')\n",
    "plt.xlabel('Value')\n",
    "plt.ylabel('Frequency')\n",
    "plt.legend()\n",
    "plt.grid(True)\n",
    "plt.show()"
   ]
  },
  {
   "cell_type": "code",
   "execution_count": null,
   "metadata": {},
   "outputs": [],
   "source": [
    "plt.hist?"
   ]
  },
  {
   "cell_type": "code",
   "execution_count": null,
   "metadata": {},
   "outputs": [],
   "source": []
  }
 ],
 "metadata": {
  "kernelspec": {
   "display_name": "Python 3",
   "language": "python",
   "name": "python3"
  },
  "language_info": {
   "codemirror_mode": {
    "name": "ipython",
    "version": 3
   },
   "file_extension": ".py",
   "mimetype": "text/x-python",
   "name": "python",
   "nbconvert_exporter": "python",
   "pygments_lexer": "ipython3",
   "version": "3.10.14"
  }
 },
 "nbformat": 4,
 "nbformat_minor": 2
}
