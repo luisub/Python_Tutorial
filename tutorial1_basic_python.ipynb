{
 "cells": [
  {
   "cell_type": "markdown",
   "metadata": {},
   "source": [
    "## 1. Introduction to Python Basics\n",
    "____\n",
    "*\tTopics Covered:\n",
    "    *\tData types\n",
    "    *   Indexing and slicing\n",
    "    *   Loading data CSV, Excel files\n",
    "    *   Working with data\n",
    "    *   Basic plotting"
   ]
  },
  {
   "cell_type": "code",
   "execution_count": 5,
   "metadata": {},
   "outputs": [],
   "source": [
    "# Install the required packages for the project\n",
    "\n",
    "# ! pip install pandas\n",
    "# ! pip install numpy\n",
    "# ! pip install matplotlib"
   ]
  },
  {
   "cell_type": "code",
   "execution_count": 6,
   "metadata": {},
   "outputs": [
    {
     "name": "stdout",
     "output_type": "stream",
     "text": [
      "Welcome to Python!\n"
     ]
    }
   ],
   "source": [
    "# Print a simple message to demonstrate Python syntax\n",
    "print(\"Welcome to Python!\")"
   ]
  },
  {
   "cell_type": "markdown",
   "metadata": {},
   "source": [
    "## 2. Basic Data Types in Python\n",
    "\n",
    "___\n",
    "\n",
    "*\tTopics Covered:\n",
    "    *\tStrings (str)\n",
    "    *\tIntegers (int)\n",
    "    *\tLists (list)\n"
   ]
  },
  {
   "cell_type": "code",
   "execution_count": 7,
   "metadata": {},
   "outputs": [
    {
     "name": "stdout",
     "output_type": "stream",
     "text": [
      "Name: Alice\n",
      "Age: 30\n",
      "Height: 5.6\n",
      "Shopping List: ['apple', 'banana', 'cherry']\n"
     ]
    }
   ],
   "source": [
    "# Examples of data types\n",
    "name = \"Alice\"  # String\n",
    "age = 30        # Integer\n",
    "height = 5.6    # Float\n",
    "items = [\"apple\", \"banana\", \"cherry\"]  # List\n",
    "\n",
    "print(\"Name:\", name)\n",
    "print(\"Age:\", age)\n",
    "print(\"Height:\", height)\n",
    "print(\"Shopping List:\", items)"
   ]
  },
  {
   "cell_type": "code",
   "execution_count": 8,
   "metadata": {},
   "outputs": [
    {
     "name": "stdout",
     "output_type": "stream",
     "text": [
      "Sum: 13\n",
      "Difference: 7\n",
      "Product: 30\n",
      "Division: 3.3333333333333335\n",
      "Floor Division: 3\n",
      "Modulus: 1\n",
      "Exponentiation: 1000\n"
     ]
    }
   ],
   "source": [
    "# Arithmetic operations\n",
    "a = 10\n",
    "b = 3\n",
    "print('Sum:', a + b)\n",
    "print('Difference:', a - b)\n",
    "print('Product:', a * b)\n",
    "print('Division:', a / b)\n",
    "print('Floor Division:', a // b)\n",
    "print('Modulus:', a % b)\n",
    "print('Exponentiation:', a ** b)"
   ]
  },
  {
   "cell_type": "code",
   "execution_count": 9,
   "metadata": {},
   "outputs": [
    {
     "name": "stdout",
     "output_type": "stream",
     "text": [
      "Full Name: John Doe\n",
      "Uppercase: JOHN DOE\n",
      "Lowercase: john doe\n",
      "Split Name: ['John', 'Doe']\n"
     ]
    }
   ],
   "source": [
    "# String operations\n",
    "first_name = \"John\"\n",
    "last_name = \"Doe\"\n",
    "full_name = first_name + \" \" + last_name\n",
    "print('Full Name:', full_name)\n",
    "print('Uppercase:', full_name.upper())\n",
    "print('Lowercase:', full_name.lower())\n",
    "print('Split Name:', full_name.split())"
   ]
  },
  {
   "cell_type": "code",
   "execution_count": 10,
   "metadata": {},
   "outputs": [
    {
     "name": "stdout",
     "output_type": "stream",
     "text": [
      "Original List: [1, 2, 3, 4, 5, 6]\n",
      "List after Append: [1, 2, 3, 4, 5, 6, 7]\n",
      "Second Element: 2\n",
      "Last Element: 7\n",
      "List after Sorting: [7, 6, 5, 4, 3, 2, 1]\n"
     ]
    }
   ],
   "source": [
    "# List operations\n",
    "numbers = [1, 2, 3, 4, 5, 6]\n",
    "print('Original List:', numbers)\n",
    "numbers.append(7)\n",
    "print('List after Append:', numbers)\n",
    "print('Second Element:', numbers[1])\n",
    "print('Last Element:', numbers[-1])\n",
    "numbers.sort(reverse=True)\n",
    "print('List after Sorting:', numbers)"
   ]
  },
  {
   "cell_type": "code",
   "execution_count": 11,
   "metadata": {},
   "outputs": [
    {
     "name": "stdout",
     "output_type": "stream",
     "text": [
      "First 3 elements: [7, 6, 5]\n",
      "Last 3 elements: [3, 2, 1]\n",
      "Elements from 2 to 4: [6, 5, 4]\n"
     ]
    }
   ],
   "source": [
    "# indexing and slicing\n",
    "print('First 3 elements:', numbers[:3])\n",
    "print('Last 3 elements:', numbers[-3:])\n",
    "print('Elements from 2 to 4:', numbers[1:4])\n"
   ]
  },
  {
   "cell_type": "markdown",
   "metadata": {},
   "source": [
    "## In this section we will start using external libraries. \n",
    "\n",
    "____"
   ]
  },
  {
   "cell_type": "markdown",
   "metadata": {},
   "source": [
    "## 3. Loading and Exploring Data\n",
    "\n",
    "____\n",
    "\n",
    "*\tTopics Covered:\n",
    "    *\tReading a CSV file\n",
    "    *\tExploring basic data statistics"
   ]
  },
  {
   "cell_type": "code",
   "execution_count": 12,
   "metadata": {},
   "outputs": [
    {
     "name": "stdout",
     "output_type": "stream",
     "text": [
      "     Control  Treatment\n",
      "0  34.967142  63.577874\n",
      "1  28.617357  65.607845\n",
      "2  36.476885  70.830512\n",
      "3  45.230299  70.538021\n",
      "4  27.658466  46.223306\n",
      "5  27.658630  50.621750\n",
      "6  45.792128  65.150353\n",
      "7  37.674347  65.137860\n",
      "8  25.305256  65.150477\n",
      "9  35.425600  98.527315\n"
     ]
    }
   ],
   "source": [
    "import pandas as pd\n",
    "import numpy as np\n",
    "\n",
    "# Set seed for reproducibility\n",
    "np.random.seed(42)\n",
    "\n",
    "number_of_values = 200\n",
    "\n",
    "# Generate data\n",
    "data = {\n",
    "    \"Control\": np.random.normal(loc=30, scale=10, size=number_of_values),\n",
    "    \"Treatment\": np.random.normal(loc=60, scale=10, size=number_of_values)\n",
    "}\n",
    "\n",
    "# Create DataFrame\n",
    "df = pd.DataFrame(data)\n",
    "\n",
    "\n",
    "print(df.head(10))  # Display the first 10 rows to check the data"
   ]
  },
  {
   "cell_type": "markdown",
   "metadata": {},
   "source": [
    "### To load a dataset from a CSV or Excel file\n",
    "_____\n",
    "```sh\n",
    "import pandas as pd\n",
    "```\n",
    "\n",
    "#### CSV file\n",
    "```sh\n",
    "csv_file = 'path_to_file.xlsx'\n",
    "```\n",
    "```sh\n",
    "data = pd.read_csv(csv_file)\n",
    "```\n",
    "\n",
    "----\n",
    "\n",
    "#### Excel file\n",
    "```sh\n",
    "excel_file = 'path_to_file.xlsx'\n",
    "```\n",
    "```sh\n",
    "data = pd.read_excel(excel_file)\n",
    "```\n",
    "-----"
   ]
  },
  {
   "cell_type": "code",
   "execution_count": 13,
   "metadata": {},
   "outputs": [
    {
     "name": "stdout",
     "output_type": "stream",
     "text": [
      "        Control  Treatment\n",
      "mean  29.592290  60.858682\n",
      "std    9.310039   9.870038\n"
     ]
    }
   ],
   "source": [
    "# Calculate summary statistics\n",
    "summary_stats = df[['Control', 'Treatment']].agg(['mean', 'std'])\n",
    "print(summary_stats)"
   ]
  },
  {
   "cell_type": "code",
   "execution_count": 14,
   "metadata": {},
   "outputs": [],
   "source": [
    "#df.agg?"
   ]
  },
  {
   "cell_type": "markdown",
   "metadata": {},
   "source": [
    "## 4. Data Indexing and Selection\n",
    "\n",
    "____\n",
    "\n",
    "*\tTopics Covered:\n",
    "    *\tSelecting rows and columns\n",
    "    *\tConditional selection\n"
   ]
  },
  {
   "cell_type": "code",
   "execution_count": 15,
   "metadata": {},
   "outputs": [
    {
     "data": {
      "text/plain": [
       "0    34.967142\n",
       "1    28.617357\n",
       "2    36.476885\n",
       "3    45.230299\n",
       "4    27.658466\n",
       "Name: Control, dtype: float64"
      ]
     },
     "execution_count": 15,
     "metadata": {},
     "output_type": "execute_result"
    }
   ],
   "source": [
    "# Selecting a column in the dataframe\n",
    "df['Control'][0:5]"
   ]
  },
  {
   "cell_type": "code",
   "execution_count": 16,
   "metadata": {},
   "outputs": [
    {
     "data": {
      "text/html": [
       "<div>\n",
       "<style scoped>\n",
       "    .dataframe tbody tr th:only-of-type {\n",
       "        vertical-align: middle;\n",
       "    }\n",
       "\n",
       "    .dataframe tbody tr th {\n",
       "        vertical-align: top;\n",
       "    }\n",
       "\n",
       "    .dataframe thead th {\n",
       "        text-align: right;\n",
       "    }\n",
       "</style>\n",
       "<table border=\"1\" class=\"dataframe\">\n",
       "  <thead>\n",
       "    <tr style=\"text-align: right;\">\n",
       "      <th></th>\n",
       "      <th>Control</th>\n",
       "      <th>Treatment</th>\n",
       "    </tr>\n",
       "  </thead>\n",
       "  <tbody>\n",
       "    <tr>\n",
       "      <th>5</th>\n",
       "      <td>27.658630</td>\n",
       "      <td>50.621750</td>\n",
       "    </tr>\n",
       "    <tr>\n",
       "      <th>6</th>\n",
       "      <td>45.792128</td>\n",
       "      <td>65.150353</td>\n",
       "    </tr>\n",
       "    <tr>\n",
       "      <th>7</th>\n",
       "      <td>37.674347</td>\n",
       "      <td>65.137860</td>\n",
       "    </tr>\n",
       "    <tr>\n",
       "      <th>8</th>\n",
       "      <td>25.305256</td>\n",
       "      <td>65.150477</td>\n",
       "    </tr>\n",
       "    <tr>\n",
       "      <th>9</th>\n",
       "      <td>35.425600</td>\n",
       "      <td>98.527315</td>\n",
       "    </tr>\n",
       "    <tr>\n",
       "      <th>10</th>\n",
       "      <td>25.365823</td>\n",
       "      <td>65.708905</td>\n",
       "    </tr>\n",
       "  </tbody>\n",
       "</table>\n",
       "</div>"
      ],
      "text/plain": [
       "      Control  Treatment\n",
       "5   27.658630  50.621750\n",
       "6   45.792128  65.150353\n",
       "7   37.674347  65.137860\n",
       "8   25.305256  65.150477\n",
       "9   35.425600  98.527315\n",
       "10  25.365823  65.708905"
      ]
     },
     "execution_count": 16,
     "metadata": {},
     "output_type": "execute_result"
    }
   ],
   "source": [
    "# Selecting rows in the dataframe\n",
    "df.loc[5:10]"
   ]
  },
  {
   "cell_type": "code",
   "execution_count": 17,
   "metadata": {},
   "outputs": [
    {
     "data": {
      "text/html": [
       "<div>\n",
       "<style scoped>\n",
       "    .dataframe tbody tr th:only-of-type {\n",
       "        vertical-align: middle;\n",
       "    }\n",
       "\n",
       "    .dataframe tbody tr th {\n",
       "        vertical-align: top;\n",
       "    }\n",
       "\n",
       "    .dataframe thead th {\n",
       "        text-align: right;\n",
       "    }\n",
       "</style>\n",
       "<table border=\"1\" class=\"dataframe\">\n",
       "  <thead>\n",
       "    <tr style=\"text-align: right;\">\n",
       "      <th></th>\n",
       "      <th>Control</th>\n",
       "      <th>Treatment</th>\n",
       "      <th>Difference</th>\n",
       "      <th>Significant</th>\n",
       "    </tr>\n",
       "  </thead>\n",
       "  <tbody>\n",
       "    <tr>\n",
       "      <th>0</th>\n",
       "      <td>34.967142</td>\n",
       "      <td>63.577874</td>\n",
       "      <td>28.610732</td>\n",
       "      <td>False</td>\n",
       "    </tr>\n",
       "    <tr>\n",
       "      <th>1</th>\n",
       "      <td>28.617357</td>\n",
       "      <td>65.607845</td>\n",
       "      <td>36.990488</td>\n",
       "      <td>True</td>\n",
       "    </tr>\n",
       "    <tr>\n",
       "      <th>2</th>\n",
       "      <td>36.476885</td>\n",
       "      <td>70.830512</td>\n",
       "      <td>34.353627</td>\n",
       "      <td>True</td>\n",
       "    </tr>\n",
       "    <tr>\n",
       "      <th>3</th>\n",
       "      <td>45.230299</td>\n",
       "      <td>70.538021</td>\n",
       "      <td>25.307722</td>\n",
       "      <td>False</td>\n",
       "    </tr>\n",
       "    <tr>\n",
       "      <th>4</th>\n",
       "      <td>27.658466</td>\n",
       "      <td>46.223306</td>\n",
       "      <td>18.564840</td>\n",
       "      <td>False</td>\n",
       "    </tr>\n",
       "    <tr>\n",
       "      <th>5</th>\n",
       "      <td>27.658630</td>\n",
       "      <td>50.621750</td>\n",
       "      <td>22.963119</td>\n",
       "      <td>False</td>\n",
       "    </tr>\n",
       "    <tr>\n",
       "      <th>6</th>\n",
       "      <td>45.792128</td>\n",
       "      <td>65.150353</td>\n",
       "      <td>19.358225</td>\n",
       "      <td>False</td>\n",
       "    </tr>\n",
       "    <tr>\n",
       "      <th>7</th>\n",
       "      <td>37.674347</td>\n",
       "      <td>65.137860</td>\n",
       "      <td>27.463512</td>\n",
       "      <td>False</td>\n",
       "    </tr>\n",
       "    <tr>\n",
       "      <th>8</th>\n",
       "      <td>25.305256</td>\n",
       "      <td>65.150477</td>\n",
       "      <td>39.845221</td>\n",
       "      <td>True</td>\n",
       "    </tr>\n",
       "    <tr>\n",
       "      <th>9</th>\n",
       "      <td>35.425600</td>\n",
       "      <td>98.527315</td>\n",
       "      <td>63.101714</td>\n",
       "      <td>True</td>\n",
       "    </tr>\n",
       "  </tbody>\n",
       "</table>\n",
       "</div>"
      ],
      "text/plain": [
       "     Control  Treatment  Difference  Significant\n",
       "0  34.967142  63.577874   28.610732        False\n",
       "1  28.617357  65.607845   36.990488         True\n",
       "2  36.476885  70.830512   34.353627         True\n",
       "3  45.230299  70.538021   25.307722        False\n",
       "4  27.658466  46.223306   18.564840        False\n",
       "5  27.658630  50.621750   22.963119        False\n",
       "6  45.792128  65.150353   19.358225        False\n",
       "7  37.674347  65.137860   27.463512        False\n",
       "8  25.305256  65.150477   39.845221         True\n",
       "9  35.425600  98.527315   63.101714         True"
      ]
     },
     "execution_count": 17,
     "metadata": {},
     "output_type": "execute_result"
    }
   ],
   "source": [
    "# Adding columns to the dataframe\n",
    "\n",
    "#  Calculate the difference\n",
    "df['Difference'] = df['Treatment'] - df['Control']\n",
    "\n",
    "# Significance effects is assumed to be larger than a threshold of 15\n",
    "threshold = 30\n",
    "\n",
    "# Add a boolean column indicating Signinficant treatment effect\n",
    "df['Significant'] = df['Difference'] > threshold\n",
    "\n",
    "# Display rows with significant treatment effect\n",
    "df.head(10)\n"
   ]
  },
  {
   "cell_type": "markdown",
   "metadata": {},
   "source": [
    "## 5. Data Visualization\n",
    "\n",
    "____\n",
    "*\tTopics Covered:\n",
    "    *\tCreating a linear plot\n",
    "    *\tGenerating a box plot\n",
    "    *\tMaking a scatter plot\n"
   ]
  },
  {
   "cell_type": "code",
   "execution_count": 19,
   "metadata": {},
   "outputs": [],
   "source": [
    "import matplotlib.pyplot as plt\n"
   ]
  },
  {
   "cell_type": "code",
   "execution_count": 20,
   "metadata": {},
   "outputs": [
    {
     "data": {
      "image/png": "[encoded data removed]",
      "text/plain": [
       "<Figure size 400x400 with 1 Axes>"
      ]
     },
     "metadata": {},
     "output_type": "display_data"
    }
   ],
   "source": [
    "# Combined Bar Plot for Mean Values\n",
    "plt.figure(figsize=(4, 4))\n",
    "labels = ['Control', 'Treatment']\n",
    "means = [summary_stats.loc['mean', 'Control'], summary_stats.loc['mean', 'Treatment']]\n",
    "errors = [summary_stats.loc['std', 'Control'], summary_stats.loc['std', 'Treatment']]\n",
    "\n",
    "plt.bar(labels, means, yerr=errors, capsize=10, color=['blue', 'red'])\n",
    "plt.title('Comparison of Mean Measurements')\n",
    "plt.ylabel('Mean Values')\n",
    "plt.show()"
   ]
  },
  {
   "cell_type": "code",
   "execution_count": 21,
   "metadata": {},
   "outputs": [
    {
     "data": {
      "image/png": "[encoded data removed]",
      "text/plain": [
       "<Figure size 400x400 with 1 Axes>"
      ]
     },
     "metadata": {},
     "output_type": "display_data"
    }
   ],
   "source": [
    "# Create a box plot\n",
    "plt.figure(figsize=(4, 4))\n",
    "# Positions for the groups\n",
    "positions = [1, 2]\n",
    "\n",
    "# Creating the box plot with 'patch_artist=True' to enable face coloring\n",
    "box = plt.boxplot([df['Control'], df['Treatment']], tick_labels=['Control', 'Treatment'], \n",
    "                  positions=positions, patch_artist=True, widths=0.6, whiskerprops={'linewidth':1.5, 'linestyle': '--', 'color':'green'})\n",
    "\n",
    "# Coloring the boxes\n",
    "colors = ['blue', 'red']\n",
    "for patch, color in zip(box['boxes'], colors):\n",
    "    patch.set_facecolor(color)\n",
    "\n",
    "\n",
    "plt.title('Box Plot with Whiskers')\n",
    "plt.ylabel('Values')\n",
    "plt.show()"
   ]
  },
  {
   "cell_type": "code",
   "execution_count": 22,
   "metadata": {},
   "outputs": [
    {
     "data": {
      "image/png": "[encoded data removed]",
      "text/plain": [
       "<Figure size 400x400 with 1 Axes>"
      ]
     },
     "metadata": {},
     "output_type": "display_data"
    }
   ],
   "source": [
    "# Create a box plot\n",
    "plt.figure(figsize=(4, 4))\n",
    "# Positions for the groups\n",
    "positions = [1, 2]\n",
    "\n",
    "# Creating the box plot with 'patch_artist=True' to enable face coloring\n",
    "box = plt.boxplot([df['Control'], df['Treatment']], tick_labels=['Control', 'Treatment'], \n",
    "                  positions=positions, patch_artist=True, widths=0.6)\n",
    "\n",
    "# Coloring the boxes\n",
    "colors = ['blue', 'red']\n",
    "for patch, color in zip(box['boxes'], colors):\n",
    "    patch.set_facecolor(color)\n",
    "\n",
    "# Adding data points on top of the box plots\n",
    "for i, data in enumerate([df['Control'], df['Treatment']], start=1):\n",
    "    x = np.random.normal(i, 0.04, size=len(data))  # Add some jitter to the x-values to spread the points\n",
    "    plt.plot(x, data, 'o', markersize=2, alpha=0.6, color='k')  # 'k' stands for black\n",
    "\n",
    "plt.title('Box Plot with Data Points')\n",
    "plt.ylabel('Values')\n",
    "plt.show()"
   ]
  },
  {
   "cell_type": "code",
   "execution_count": 23,
   "metadata": {},
   "outputs": [
    {
     "data": {
      "image/png": "[encoded data removed]",
      "text/plain": [
       "<Figure size 500x400 with 1 Axes>"
      ]
     },
     "metadata": {},
     "output_type": "display_data"
    }
   ],
   "source": [
    "plt.figure(figsize=(5, 4))\n",
    "plt.hist([df['Control'], df['Treatment']], bins=10, alpha=0.7, label=['Control', 'Treatment'], color=['blue', 'red'],density=True )\n",
    "plt.title('Histogram of Control and Treatment Measurements')\n",
    "plt.xlabel('Value')\n",
    "plt.ylabel('Frequency')\n",
    "plt.legend()\n",
    "plt.grid(True)\n",
    "plt.show()"
   ]
  },
  {
   "cell_type": "code",
   "execution_count": 25,
   "metadata": {},
   "outputs": [],
   "source": [
    "#plt.hist?"
   ]
  },
  {
   "cell_type": "markdown",
   "metadata": {},
   "source": [
    "# 5. Conditionals\n",
    "\n",
    "___\n",
    "\n",
    "*\tTopics Covered:\n",
    "    *\tIf statements\n",
    "    *\tClasses"
   ]
  },
  {
   "cell_type": "code",
   "execution_count": 45,
   "metadata": {},
   "outputs": [
    {
     "data": {
      "text/html": [
       "<img src=\"https://www.boardinfinity.com/blog/content/images/2022/12/Your-paragraph-text--77--1.jpg\" alt=\"Image Description\" width=\"500\" height=\"300\">"
      ],
      "text/plain": [
       "<IPython.core.display.HTML object>"
      ]
     },
     "execution_count": 45,
     "metadata": {},
     "output_type": "execute_result"
    }
   ],
   "source": [
    "from IPython.display import HTML\n",
    "url = 'https://www.boardinfinity.com/blog/content/images/2022/12/Your-paragraph-text--77--1.jpg'\n",
    "HTML(f'<img src=\"{url}\" alt=\"Image Description\" width=\"500\" height=\"300\">')"
   ]
  },
  {
   "cell_type": "code",
   "execution_count": null,
   "metadata": {},
   "outputs": [],
   "source": [
    "condition = True\n",
    "if condition:\n",
    "    # code to execute if condition is true\n",
    "    print (\"Condition is True\")\n",
    "    "
   ]
  },
  {
   "cell_type": "code",
   "execution_count": 32,
   "metadata": {},
   "outputs": [
    {
     "name": "stdout",
     "output_type": "stream",
     "text": [
      "Second condition is true\n"
     ]
    }
   ],
   "source": [
    "first_condition = False\n",
    "second_condition = True\n",
    "\n",
    "if first_condition:\n",
    "    # code to execute if first_condition is true\n",
    "    print(\"First condition is true\")\n",
    "elif second_condition:\n",
    "    # code to execute if second_condition is true\n",
    "    print(\"Second condition is true\")\n",
    "else:\n",
    "    # code to execute if none of the above conditions are true\n",
    "    print(\"Neither condition is true\")\n",
    "    "
   ]
  },
  {
   "cell_type": "code",
   "execution_count": null,
   "metadata": {},
   "outputs": [],
   "source": [
    "first_condition = True\n",
    "nested_condition = True\n",
    "\n",
    "if first_condition:\n",
    "    if nested_condition:\n",
    "        # code to execute if both first_condition and nested_condition are true\n",
    "        print(\"Both conditions are true\")"
   ]
  },
  {
   "cell_type": "markdown",
   "metadata": {},
   "source": [
    "# 6. Loops\n",
    "____\n",
    "*\tTopics Covered:\n",
    "    *\tFor loop\n",
    "        * Nested for loop\n",
    "    *\tWhile loop"
   ]
  },
  {
   "cell_type": "code",
   "execution_count": 46,
   "metadata": {},
   "outputs": [
    {
     "data": {
      "text/html": [
       "<img src=\"https://media.geeksforgeeks.org/wp-content/uploads/Loop1.png\" alt=\"Image Description\" width=\"500\" height=\"300\">"
      ],
      "text/plain": [
       "<IPython.core.display.HTML object>"
      ]
     },
     "execution_count": 46,
     "metadata": {},
     "output_type": "execute_result"
    }
   ],
   "source": [
    "url = 'https://media.geeksforgeeks.org/wp-content/uploads/Loop1.png'\n",
    "HTML(f'<img src=\"{url}\" alt=\"Image Description\" width=\"500\" height=\"300\">')"
   ]
  },
  {
   "cell_type": "code",
   "execution_count": 27,
   "metadata": {},
   "outputs": [
    {
     "name": "stdout",
     "output_type": "stream",
     "text": [
      "0\n",
      "1\n",
      "2\n",
      "3\n",
      "4\n",
      "5\n",
      "6\n",
      "7\n",
      "8\n",
      "9\n"
     ]
    }
   ],
   "source": [
    "# Example of a for loop that prints numbers from 0 to 9\n",
    "for i in range(10):\n",
    "    print(i)\n"
   ]
  },
  {
   "cell_type": "code",
   "execution_count": 43,
   "metadata": {},
   "outputs": [
    {
     "name": "stdout",
     "output_type": "stream",
     "text": [
      "0 0\n",
      "0 1\n",
      "1 0\n",
      "1 1\n",
      "2 0\n",
      "2 1\n"
     ]
    }
   ],
   "source": [
    "# example of a nested for loop \n",
    "for i in range(3):\n",
    "    for j in range(2):\n",
    "        print(i, j)"
   ]
  },
  {
   "cell_type": "code",
   "execution_count": 44,
   "metadata": {},
   "outputs": [
    {
     "name": "stdout",
     "output_type": "stream",
     "text": [
      "apple\n",
      "banana\n",
      "cherry\n"
     ]
    }
   ],
   "source": [
    "# Example of a for loop that iterates over a list\n",
    "fruits = [\"apple\", \"banana\", \"cherry\"]\n",
    "for fruit in fruits:\n",
    "    print(fruit)"
   ]
  },
  {
   "cell_type": "code",
   "execution_count": 28,
   "metadata": {},
   "outputs": [
    {
     "name": "stdout",
     "output_type": "stream",
     "text": [
      "0\n",
      "1\n",
      "2\n",
      "3\n",
      "4\n",
      "5\n",
      "6\n",
      "7\n",
      "8\n",
      "9\n"
     ]
    }
   ],
   "source": [
    "# Example of a while loop that prints numbers from 0 to 9\n",
    "i = 0\n",
    "while i < 10:\n",
    "    print(i)\n",
    "    i += 1"
   ]
  },
  {
   "cell_type": "code",
   "execution_count": 38,
   "metadata": {},
   "outputs": [
    {
     "name": "stdout",
     "output_type": "stream",
     "text": [
      "x is less than y\n"
     ]
    }
   ],
   "source": [
    "# Comparisons and Identity\n",
    "x = 10\n",
    "y = 20\n",
    "if x < y:\n",
    "    # code to execute if x is less than y\n",
    "    print(\"x is less than y\")\n",
    "\n"
   ]
  },
  {
   "cell_type": "markdown",
   "metadata": {},
   "source": [
    "# 7. Reusable code\n",
    "\n",
    "___\n",
    "\n",
    "*\tTopics Covered:\n",
    "    *\tFunctions\n",
    "    *\tClasses"
   ]
  },
  {
   "cell_type": "markdown",
   "metadata": {},
   "source": [
    "**Functions** in Python are defined using the def keyword and are used to encapsulate code into reusable blocks. This not only helps in making the code more organized but also allows for code reusability."
   ]
  },
  {
   "cell_type": "code",
   "execution_count": 47,
   "metadata": {},
   "outputs": [
    {
     "data": {
      "text/html": [
       "<img src=\"https://res.cloudinary.com/practicaldev/image/fetch/s--iCkOfD0L--/c_limit%2Cf_auto%2Cfl_progressive%2Cq_auto%2Cw_880/https://cdn-images-1.medium.com/max/1024/1%2A709ugF12LLkYxvb839YNlg.png\" alt=\"Image Description\" width=\"500\" height=\"300\">"
      ],
      "text/plain": [
       "<IPython.core.display.HTML object>"
      ]
     },
     "execution_count": 47,
     "metadata": {},
     "output_type": "execute_result"
    }
   ],
   "source": [
    "url = 'https://res.cloudinary.com/practicaldev/image/fetch/s--iCkOfD0L--/c_limit%2Cf_auto%2Cfl_progressive%2Cq_auto%2Cw_880/https://cdn-images-1.medium.com/max/1024/1%2A709ugF12LLkYxvb839YNlg.png'\n",
    "HTML(f'<img src=\"{url}\" alt=\"Image Description\" width=\"500\" height=\"300\">')"
   ]
  },
  {
   "cell_type": "code",
   "execution_count": 41,
   "metadata": {},
   "outputs": [
    {
     "name": "stdout",
     "output_type": "stream",
     "text": [
      "Hello, Luis\n"
     ]
    }
   ],
   "source": [
    "# Define a funtion that prints a message\n",
    "def greet(name):\n",
    "    print(\"Hello,\", name)\n",
    "\n",
    "# Call the function with a specific name\n",
    "greet(\"Luis\")\n"
   ]
  },
  {
   "cell_type": "code",
   "execution_count": 42,
   "metadata": {},
   "outputs": [
    {
     "name": "stdout",
     "output_type": "stream",
     "text": [
      "30\n"
     ]
    }
   ],
   "source": [
    "# Define a function that returns the sum of two numbers\n",
    "def add(a, b):\n",
    "    return a + b\n",
    "\n",
    "# Call the function and store the result in a variable\n",
    "result = add(10, 20)\n",
    "print(result)  "
   ]
  },
  {
   "cell_type": "markdown",
   "metadata": {},
   "source": [
    "**Classes** provide a means of bundling data and functionality together. Creating a class involves defining a class blueprint, which then can be used to create multiple objects.\n"
   ]
  },
  {
   "cell_type": "code",
   "execution_count": 48,
   "metadata": {},
   "outputs": [
    {
     "data": {
      "text/html": [
       "<img src=\"https://miro.medium.com/v2/resize:fit:1400/1*CM0Jy_kA06FwPx0O432RxA.png\" alt=\"Image Description\" width=\"500\" height=\"300\">"
      ],
      "text/plain": [
       "<IPython.core.display.HTML object>"
      ]
     },
     "execution_count": 48,
     "metadata": {},
     "output_type": "execute_result"
    }
   ],
   "source": [
    "url = 'https://miro.medium.com/v2/resize:fit:1400/1*CM0Jy_kA06FwPx0O432RxA.png'\n",
    "HTML(f'<img src=\"{url}\" alt=\"Image Description\" width=\"500\" height=\"300\">')"
   ]
  },
  {
   "cell_type": "code",
   "execution_count": 56,
   "metadata": {},
   "outputs": [
    {
     "data": {
      "text/html": [
       "<img src=\"https://miro.medium.com/v2/resize:fit:830/0*sxgttVKOUrT0fhGc.png\" alt=\"Image Description\" width=\"500\" height=\"300\">"
      ],
      "text/plain": [
       "<IPython.core.display.HTML object>"
      ]
     },
     "execution_count": 56,
     "metadata": {},
     "output_type": "execute_result"
    }
   ],
   "source": [
    "url = 'https://miro.medium.com/v2/resize:fit:830/0*sxgttVKOUrT0fhGc.png'\n",
    "HTML(f'<img src=\"{url}\" alt=\"Image Description\" width=\"500\" height=\"300\">')"
   ]
  },
  {
   "cell_type": "code",
   "execution_count": 59,
   "metadata": {},
   "outputs": [],
   "source": [
    "# create a class for a car\n",
    "class Car:\n",
    "    # constructor method with default values\n",
    "    def __init__(self, color, make, model, year):\n",
    "        # attributes of the class\n",
    "        self.color = color\n",
    "        self.make = make\n",
    "        self.model = model\n",
    "        self.year = year\n",
    "\n",
    "    # method to make the car drive. Actions. \n",
    "    def drive(self):\n",
    "        print(f\"The {self.color} {self.make} {self.model} {self.year} is moving!\")\n"
   ]
  },
  {
   "cell_type": "code",
   "execution_count": null,
   "metadata": {},
   "outputs": [],
   "source": [
    "# create another instance of the Car class with custom values\n",
    "car1 = Car(color='red', make=\"Toyota\", model=\"Corolla\", year=2020)\n",
    "# car attributes\n",
    "print(\"Make:\", car1.make)\n",
    "print(\"Model:\", car1.model)\n",
    "print(\"Year:\", car1.year)\n",
    "# call the drive method\n",
    "car1.drive()\n"
   ]
  },
  {
   "cell_type": "code",
   "execution_count": 58,
   "metadata": {},
   "outputs": [
    {
     "name": "stdout",
     "output_type": "stream",
     "text": [
      "The blue Honda Civic 2021 is moving\n"
     ]
    }
   ],
   "source": [
    "\n",
    "# create another instance of the Car class with custom values\n",
    "car2 = Car(color='blue', make=\"Honda\", model=\"Civic\", year=2021)\n",
    "car2.drive()"
   ]
  },
  {
   "cell_type": "code",
   "execution_count": 40,
   "metadata": {},
   "outputs": [
    {
     "name": "stdout",
     "output_type": "stream",
     "text": [
      "Area of rectangle: 50\n",
      "Perimeter of rectangle: 30\n"
     ]
    }
   ],
   "source": [
    "# A simple Python class for a Rectangle that can calculate area and perimeter\n",
    "class Rectangle:\n",
    "    def __init__(self, width, height):\n",
    "        self.width = width\n",
    "        self.height = height\n",
    "\n",
    "    def area(self):\n",
    "        return self.width * self.height\n",
    "\n",
    "    def perimeter(self):\n",
    "        return 2 * (self.width + self.height)\n",
    "\n",
    "# Creating an instance of Rectangle\n",
    "rect = Rectangle(10, 5)\n",
    "\n",
    "# Accessing attributes and methods of the class\n",
    "\n",
    "# Accessing attributes\n",
    "print(\"Width of rectangle:\", rect.width)\n",
    "print(\"Height of rectangle:\", rect.height)\n",
    "\n",
    "# Accessing methods\n",
    "print(\"Area of rectangle:\", rect.area())\n",
    "print(\"Perimeter of rectangle:\", rect.perimeter())"
   ]
  }
 ],
 "metadata": {
  "kernelspec": {
   "display_name": "Python 3",
   "language": "python",
   "name": "python3"
  },
  "language_info": {
   "codemirror_mode": {
    "name": "ipython",
    "version": 3
   },
   "file_extension": ".py",
   "mimetype": "text/x-python",
   "name": "python",
   "nbconvert_exporter": "python",
   "pygments_lexer": "ipython3",
   "version": "3.10.14"
  }
 },
 "nbformat": 4,
 "nbformat_minor": 2
}
